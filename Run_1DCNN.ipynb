{
 "cells": [
  {
   "cell_type": "code",
   "execution_count": null,
   "id": "8f4258b2",
   "metadata": {},
   "outputs": [],
   "source": [
    "import pandas as pd\n",
    "import numpy as np\n",
    "import wfdb\n",
    "import ast\n",
    "import matplotlib.pyplot as plt\n",
    "import seaborn as sns\n",
    "from sklearn.preprocessing import StandardScaler\n",
    "\n",
    "import torch\n",
    "import torch.nn as nn\n",
    "import torch.nn.functional as F\n",
    "import torch.optim as optim\n",
    "from torch.utils.data import Dataset, DataLoader, TensorDataset\n",
    "\n"
   ]
  },
  {
   "cell_type": "code",
   "execution_count": 2,
   "id": "597e4ba7",
   "metadata": {},
   "outputs": [],
   "source": [
    "%store -r x_train\n",
    "%store -r y_train\n",
    "%store -r x_valid\n",
    "%store -r y_valid\n",
    "%store -r x_test\n",
    "%store -r y_test"
   ]
  },
  {
   "cell_type": "markdown",
   "id": "912a1ec3",
   "metadata": {},
   "source": [
    "# Model 1: Simple 1DCNN\n",
    "\n",
    "Our first model will be a simple 1D CNN model, without the use of any metadata as features, other than the ECG signal itself. This model will be used as a baseline to compare against more complex models that incorporate additional features."
   ]
  },
  {
   "cell_type": "code",
   "execution_count": 32,
   "id": "7d346ad8",
   "metadata": {},
   "outputs": [
    {
     "ename": "KeyError",
     "evalue": "\"None of [Index(['age', 'sex', 'height', 'weight', 'nurse', 'site', 'device',\\n       'strat_fold'],\\n      dtype='object')] are in the [columns]\"",
     "output_type": "error",
     "traceback": [
      "\u001b[31m---------------------------------------------------------------------------\u001b[39m",
      "\u001b[31mKeyError\u001b[39m                                  Traceback (most recent call last)",
      "\u001b[36mCell\u001b[39m\u001b[36m \u001b[39m\u001b[32mIn[32]\u001b[39m\u001b[32m, line 7\u001b[39m\n\u001b[32m      5\u001b[39m x_valid = x_valid\n\u001b[32m      6\u001b[39m x_test = x_test\n\u001b[32m----> \u001b[39m\u001b[32m7\u001b[39m x_meta_train = \u001b[43my_train\u001b[49m\u001b[43m[\u001b[49m\u001b[43mmeta_features\u001b[49m\u001b[43m]\u001b[49m\n\u001b[32m      8\u001b[39m x_meta_valid = y_valid[meta_features]\n\u001b[32m      9\u001b[39m x_meta_test = y_test[meta_features]\n",
      "\u001b[36mFile \u001b[39m\u001b[32mc:\\Users\\loghe\\OneDrive\\Dokumenter\\Skole\\Vår25\\Deep_Learning\\project\\DL_UNICT\\.venv\\Lib\\site-packages\\pandas\\core\\frame.py:4113\u001b[39m, in \u001b[36mDataFrame.__getitem__\u001b[39m\u001b[34m(self, key)\u001b[39m\n\u001b[32m   4111\u001b[39m     \u001b[38;5;28;01mif\u001b[39;00m is_iterator(key):\n\u001b[32m   4112\u001b[39m         key = \u001b[38;5;28mlist\u001b[39m(key)\n\u001b[32m-> \u001b[39m\u001b[32m4113\u001b[39m     indexer = \u001b[38;5;28;43mself\u001b[39;49m\u001b[43m.\u001b[49m\u001b[43mcolumns\u001b[49m\u001b[43m.\u001b[49m\u001b[43m_get_indexer_strict\u001b[49m\u001b[43m(\u001b[49m\u001b[43mkey\u001b[49m\u001b[43m,\u001b[49m\u001b[43m \u001b[49m\u001b[33;43m\"\u001b[39;49m\u001b[33;43mcolumns\u001b[39;49m\u001b[33;43m\"\u001b[39;49m\u001b[43m)\u001b[49m[\u001b[32m1\u001b[39m]\n\u001b[32m   4115\u001b[39m \u001b[38;5;66;03m# take() does not accept boolean indexers\u001b[39;00m\n\u001b[32m   4116\u001b[39m \u001b[38;5;28;01mif\u001b[39;00m \u001b[38;5;28mgetattr\u001b[39m(indexer, \u001b[33m\"\u001b[39m\u001b[33mdtype\u001b[39m\u001b[33m\"\u001b[39m, \u001b[38;5;28;01mNone\u001b[39;00m) == \u001b[38;5;28mbool\u001b[39m:\n",
      "\u001b[36mFile \u001b[39m\u001b[32mc:\\Users\\loghe\\OneDrive\\Dokumenter\\Skole\\Vår25\\Deep_Learning\\project\\DL_UNICT\\.venv\\Lib\\site-packages\\pandas\\core\\indexes\\base.py:6212\u001b[39m, in \u001b[36mIndex._get_indexer_strict\u001b[39m\u001b[34m(self, key, axis_name)\u001b[39m\n\u001b[32m   6209\u001b[39m \u001b[38;5;28;01melse\u001b[39;00m:\n\u001b[32m   6210\u001b[39m     keyarr, indexer, new_indexer = \u001b[38;5;28mself\u001b[39m._reindex_non_unique(keyarr)\n\u001b[32m-> \u001b[39m\u001b[32m6212\u001b[39m \u001b[38;5;28;43mself\u001b[39;49m\u001b[43m.\u001b[49m\u001b[43m_raise_if_missing\u001b[49m\u001b[43m(\u001b[49m\u001b[43mkeyarr\u001b[49m\u001b[43m,\u001b[49m\u001b[43m \u001b[49m\u001b[43mindexer\u001b[49m\u001b[43m,\u001b[49m\u001b[43m \u001b[49m\u001b[43maxis_name\u001b[49m\u001b[43m)\u001b[49m\n\u001b[32m   6214\u001b[39m keyarr = \u001b[38;5;28mself\u001b[39m.take(indexer)\n\u001b[32m   6215\u001b[39m \u001b[38;5;28;01mif\u001b[39;00m \u001b[38;5;28misinstance\u001b[39m(key, Index):\n\u001b[32m   6216\u001b[39m     \u001b[38;5;66;03m# GH 42790 - Preserve name from an Index\u001b[39;00m\n",
      "\u001b[36mFile \u001b[39m\u001b[32mc:\\Users\\loghe\\OneDrive\\Dokumenter\\Skole\\Vår25\\Deep_Learning\\project\\DL_UNICT\\.venv\\Lib\\site-packages\\pandas\\core\\indexes\\base.py:6261\u001b[39m, in \u001b[36mIndex._raise_if_missing\u001b[39m\u001b[34m(self, key, indexer, axis_name)\u001b[39m\n\u001b[32m   6259\u001b[39m \u001b[38;5;28;01mif\u001b[39;00m nmissing:\n\u001b[32m   6260\u001b[39m     \u001b[38;5;28;01mif\u001b[39;00m nmissing == \u001b[38;5;28mlen\u001b[39m(indexer):\n\u001b[32m-> \u001b[39m\u001b[32m6261\u001b[39m         \u001b[38;5;28;01mraise\u001b[39;00m \u001b[38;5;167;01mKeyError\u001b[39;00m(\u001b[33mf\u001b[39m\u001b[33m\"\u001b[39m\u001b[33mNone of [\u001b[39m\u001b[38;5;132;01m{\u001b[39;00mkey\u001b[38;5;132;01m}\u001b[39;00m\u001b[33m] are in the [\u001b[39m\u001b[38;5;132;01m{\u001b[39;00maxis_name\u001b[38;5;132;01m}\u001b[39;00m\u001b[33m]\u001b[39m\u001b[33m\"\u001b[39m)\n\u001b[32m   6263\u001b[39m     not_found = \u001b[38;5;28mlist\u001b[39m(ensure_index(key)[missing_mask.nonzero()[\u001b[32m0\u001b[39m]].unique())\n\u001b[32m   6264\u001b[39m     \u001b[38;5;28;01mraise\u001b[39;00m \u001b[38;5;167;01mKeyError\u001b[39;00m(\u001b[33mf\u001b[39m\u001b[33m\"\u001b[39m\u001b[38;5;132;01m{\u001b[39;00mnot_found\u001b[38;5;132;01m}\u001b[39;00m\u001b[33m not in index\u001b[39m\u001b[33m\"\u001b[39m)\n",
      "\u001b[31mKeyError\u001b[39m: \"None of [Index(['age', 'sex', 'height', 'weight', 'nurse', 'site', 'device',\\n       'strat_fold'],\\n      dtype='object')] are in the [columns]\""
     ]
    }
   ],
   "source": [
    "meta_features = ['age', 'sex', 'height', 'weight', 'nurse', 'site', 'device']\n",
    "meta_features.append('strat_fold') # will not be used for cross-validation in train set\n",
    "\n",
    "x_train = x_train\n",
    "x_valid = x_valid\n",
    "x_test = x_test\n",
    "x_meta_train = y_train[meta_features]\n",
    "x_meta_valid = y_valid[meta_features]\n",
    "x_meta_test = y_test[meta_features]\n",
    "y_train = y_train.drop(columns=meta_features)\n",
    "y_valid = y_valid.drop(columns=meta_features)\n",
    "y_test = y_test.drop(columns=meta_features)"
   ]
  },
  {
   "cell_type": "code",
   "execution_count": 14,
   "id": "659ac8ed",
   "metadata": {},
   "outputs": [
    {
     "data": {
      "text/plain": [
       "Index(['NORM', 'MI', 'STTC', 'HYP', 'CD', 'sub_NORM', 'sub_IMI', 'sub_STTC',\n",
       "       'sub_NST_', 'sub_LVH', 'sub_LAFB/LPFB', 'sub_RVH', 'sub_IRBBB',\n",
       "       'sub_RAO/RAE', 'sub_IVCD', 'sub_LMI', 'sub_AMI', 'sub__AVB', 'sub_ISCA',\n",
       "       'sub_ISC_', 'sub_SEHYP', 'sub_ISCI', 'sub_CRBBB', 'sub_CLBBB',\n",
       "       'sub_LAO/LAE', 'sub_ILBBB', 'sub_WPW', 'sub_PMI'],\n",
       "      dtype='object')"
      ]
     },
     "execution_count": 14,
     "metadata": {},
     "output_type": "execute_result"
    }
   ],
   "source": [
    "y_train.columns"
   ]
  },
  {
   "cell_type": "markdown",
   "id": "b042cc05",
   "metadata": {},
   "source": [
    "### Normalize/standardize"
   ]
  },
  {
   "cell_type": "code",
   "execution_count": 18,
   "id": "9ba4690e",
   "metadata": {},
   "outputs": [
    {
     "name": "stdout",
     "output_type": "stream",
     "text": [
      "x_train shape: (17441, 1000, 12)\n"
     ]
    }
   ],
   "source": [
    "print('x_train shape:', x_train.shape)"
   ]
  },
  {
   "cell_type": "code",
   "execution_count": null,
   "id": "f058873c",
   "metadata": {},
   "outputs": [],
   "source": [
    "# Standardize the features across all 12 channels\n",
    "num_channels = x_train.shape[2] # 12\n",
    "\n",
    "x_train = np.empty_like(x_train)\n",
    "x_valid = np.empty_like(x_valid)\n",
    "x_test = np.empty_like(x_test)\n",
    "\n",
    "scalers = []\n",
    "for ch in range(num_channels):\n",
    "    scaler = StandardScaler()\n",
    "    x_train[:, :, ch] = scaler.fit_transform(x_train[:, :, ch])\n",
    "    x_valid[:, :, ch] = scaler.transform(x_valid[:, :, ch])\n",
    "    x_test[:, :, ch] = scaler.transform(x_test[:, :, ch])\n",
    "    scalers.append(scaler)\n"
   ]
  },
  {
   "cell_type": "code",
   "execution_count": null,
   "id": "4f9471fd",
   "metadata": {},
   "outputs": [],
   "source": []
  },
  {
   "cell_type": "code",
   "execution_count": null,
   "id": "fa16b3b6",
   "metadata": {},
   "outputs": [],
   "source": [
    "#for i, scaler in enumerate(scalers):\n",
    "#    print(f\"Channel {i}: mean={scaler.mean_[0]:.4f}, std={scaler.scale_[0]:.4f}\")"
   ]
  },
  {
   "cell_type": "code",
   "execution_count": 24,
   "id": "5f8269dc",
   "metadata": {},
   "outputs": [],
   "source": [
    "class ECG1DCNN(nn.Module):\n",
    "    def __init__(self, num_features, num_labels):\n",
    "        super(ECG1DCNN, self).__init__()\n",
    "        \n",
    "        # CNN for ECG signal (12 leads)\n",
    "        self.conv1 = nn.Conv1d(12, 32, kernel_size=7, stride=1, padding=3)\n",
    "        self.bn1 = nn.BatchNorm1d(32)\n",
    "        self.pool1 = nn.MaxPool1d(2)\n",
    "        \n",
    "        self.conv2 = nn.Conv1d(32, 64, kernel_size=5, stride=1, padding=2)\n",
    "        self.bn2 = nn.BatchNorm1d(64)\n",
    "        self.pool2 = nn.MaxPool1d(2)\n",
    "        \n",
    "        self.conv3 = nn.Conv1d(64, 128, kernel_size=3, stride=1, padding=1)\n",
    "        self.bn3 = nn.BatchNorm1d(128)\n",
    "        self.pool3 = nn.AdaptiveAvgPool1d(1)  # Output shape: (batch, 128, 1)\n",
    "\n",
    "        # MLP for tabular features\n",
    "        self.tabular_net = nn.Sequential(\n",
    "            nn.Linear(num_features, 32),\n",
    "            nn.ReLU(),\n",
    "            nn.Linear(32, 32)\n",
    "        )\n",
    "\n",
    "        # Final classifier\n",
    "        self.classifier = nn.Sequential(\n",
    "            nn.Linear(128 + 32, 64),\n",
    "            nn.ReLU(),\n",
    "            nn.Linear(64, num_labels),\n",
    "            nn.Sigmoid()  # for multilabel\n",
    "        )\n",
    "\n",
    "    def forward(self, ecg, tabular):\n",
    "        # ECG branch\n",
    "        x = F.relu(self.bn1(self.conv1(ecg)))\n",
    "        x = self.pool1(x)\n",
    "        x = F.relu(self.bn2(self.conv2(x)))\n",
    "        x = self.pool2(x)\n",
    "        x = F.relu(self.bn3(self.conv3(x)))\n",
    "        x = self.pool3(x)\n",
    "        x = x.view(x.size(0), -1)  # flatten\n",
    "\n",
    "        # Tabular branch\n",
    "        t = self.tabular_net(tabular)\n",
    "\n",
    "        # Concatenate & classify\n",
    "        combined = torch.cat((x, t), dim=1)\n",
    "        out = self.classifier(combined)\n",
    "        return out"
   ]
  },
  {
   "cell_type": "code",
   "execution_count": 25,
   "id": "7ba76d0e",
   "metadata": {},
   "outputs": [],
   "source": [
    "def train_model_selection(model, loaders, optimizer, criterion, epochs=10, dev=torch.device('cpu'), checkpoint_path='best_model.pt'):\n",
    "    model = model.to(dev)\n",
    "    best_val_loss = float('inf')\n",
    "    history_loss = {'train': [], 'val': []}\n",
    "    history_acc = {'train': [], 'val': []}\n",
    "\n",
    "    for epoch in range(epochs):\n",
    "        for phase in ['train', 'val']:\n",
    "            model.train() if phase == 'train' else model.eval()\n",
    "            running_loss, corrects, total = 0.0, 0, 0\n",
    "\n",
    "            for ecg, tabular, labels in loaders[phase]:\n",
    "                ecg, tabular, labels = ecg.to(dev), tabular.to(dev), labels.to(dev)\n",
    "                optimizer.zero_grad()\n",
    "\n",
    "                with torch.set_grad_enabled(phase == 'train'):\n",
    "                    outputs = model(ecg, tabular)\n",
    "                    loss = criterion(outputs, labels)\n",
    "                    if phase == 'train':\n",
    "                        loss.backward()\n",
    "                        optimizer.step()\n",
    "\n",
    "                running_loss += loss.item() * ecg.size(0)\n",
    "                preds = (outputs > 0.5).float()\n",
    "                corrects += (preds == labels).sum().item()\n",
    "                total += labels.numel()\n",
    "\n",
    "            epoch_loss = running_loss / len(loaders[phase].dataset)\n",
    "            epoch_acc = corrects / total\n",
    "            history_loss[phase].append(epoch_loss)\n",
    "            history_acc[phase].append(epoch_acc)\n",
    "\n",
    "            print(f\"[{epoch+1}/{epochs}] {phase.upper()} Loss: {epoch_loss:.4f} | Acc: {epoch_acc:.4f}\")\n",
    "\n",
    "            if phase == 'val' and epoch_loss < best_val_loss:\n",
    "                best_val_loss = epoch_loss\n",
    "                torch.save(model.state_dict(), checkpoint_path)\n",
    "\n",
    "    return history_loss, history_acc"
   ]
  },
  {
   "cell_type": "code",
   "execution_count": 29,
   "id": "128a9bdf",
   "metadata": {},
   "outputs": [],
   "source": [
    "from helpers import to_tensor\n",
    "\n",
    "num_features = x_train.shape[1]\n",
    "num_labels = y_train.shape[1]\n",
    "\n",
    "model = ECG1DCNN(num_features=num_features, num_labels=num_labels)\n",
    "\n",
    "# Loss and optimizer\n",
    "criterion = nn.BCELoss()  # For multilabel classification with sigmoid\n",
    "optimizer = optim.Adam(model.parameters(), lr=1e-3)\n",
    "\n",
    "# Device selection\n",
    "device = torch.device(\"cuda\" if torch.cuda.is_available() else \"cpu\")\n",
    "\n",
    "train_ds = TensorDataset(to_tensor(x_train), to_tensor(y_train))\n",
    "valid_ds = TensorDataset(to_tensor(x_valid), to_tensor(y_valid))\n",
    "test_ds = TensorDataset(to_tensor(x_test), to_tensor(y_test))\n",
    "\n",
    "# Dataloaders\n",
    "loaders = {\n",
    "    \"train\": DataLoader(train_ds, batch_size=64, shuffle=True),\n",
    "    \"val\":   DataLoader(valid_ds, batch_size=64),\n",
    "    \"test\":  DataLoader(test_ds, batch_size=64)\n",
    "}"
   ]
  },
  {
   "cell_type": "code",
   "execution_count": 30,
   "id": "6db6576a",
   "metadata": {},
   "outputs": [],
   "source": [
    "def train_model_selection(model, loaders, optimizer, criterion, epochs=10, dev=torch.device('cpu'), checkpoint_path='./ecg_best_model.pt'):\n",
    "    best_val_loss = float('inf')\n",
    "    print(f\"Training on device: {dev}\")\n",
    "    print(f\"Saving best model checkpoint to: {checkpoint_path}\")\n",
    "    try:\n",
    "        model = model.to(dev)\n",
    "        print(model)\n",
    "\n",
    "        history_loss = {\"train\": [], \"val\": [], \"test\": []}\n",
    "        history_accuracy = {\"train\": [], \"val\": [], \"test\": []}\n",
    "\n",
    "        for epoch in range(epochs):\n",
    "            sum_loss = {\"train\": 0, \"val\": 0, \"test\": 0}\n",
    "            sum_accuracy = {\"train\": 0, \"val\": 0, \"test\": 0}\n",
    "\n",
    "            for split in [\"train\", \"val\", \"test\"]:\n",
    "                if not loaders.get(split):\n",
    "                    print(f\"Skipping {split} phase for epoch {epoch+1} due to empty loader.\")\n",
    "                    history_loss[split].append(float('nan'))\n",
    "                    history_accuracy[split].append(float('nan'))\n",
    "                    continue\n",
    "\n",
    "                model.train() if split == \"train\" else model.eval()\n",
    "\n",
    "                for ecg, tabular, labels in loaders[split]:\n",
    "                    ecg = ecg.permute(0, 2, 1).to(dev) \n",
    "                    tabular = tabular.to(dev)\n",
    "                    labels = labels.to(dev)\n",
    "\n",
    "                    optimizer.zero_grad()\n",
    "                    with torch.set_grad_enabled(split == \"train\"):\n",
    "                        outputs = model(ecg, tabular)\n",
    "                        loss = criterion(outputs, labels)\n",
    "                        if split == \"train\":\n",
    "                            loss.backward()\n",
    "                            optimizer.step()\n",
    "\n",
    "                    sum_loss[split] += loss.item()\n",
    "                    preds = (outputs > 0.5).float()\n",
    "                    batch_acc = (preds == labels).sum().item() / labels.numel()\n",
    "                    sum_accuracy[split] += batch_acc\n",
    "\n",
    "            # Average epoch metrics\n",
    "            epoch_loss = {s: (sum_loss[s] / len(loaders[s]) if loaders.get(s) else float('nan')) for s in [\"train\", \"val\", \"test\"]}\n",
    "            epoch_acc = {s: (sum_accuracy[s] / len(loaders[s]) if loaders.get(s) else float('nan')) for s in [\"train\", \"val\", \"test\"]}\n",
    "\n",
    "            # Save best model\n",
    "            if loaders.get(\"val\") and epoch_loss[\"val\"] < best_val_loss:\n",
    "                best_val_loss = epoch_loss[\"val\"]\n",
    "                torch.save({\n",
    "                    \"epoch\": epoch,\n",
    "                    \"model_state_dict\": model.state_dict(),\n",
    "                    \"optimizer_state_dict\": optimizer.state_dict(),\n",
    "                    \"val_loss\": epoch_loss[\"val\"]\n",
    "                }, checkpoint_path)\n",
    "                print(f\"Epoch {epoch+1}: ✅ Saved best model with Val_Loss: {best_val_loss:.4f}\")\n",
    "\n",
    "            # Store history\n",
    "            for s in [\"train\", \"val\", \"test\"]:\n",
    "                history_loss[s].append(epoch_loss[s])\n",
    "                history_accuracy[s].append(epoch_acc[s])\n",
    "\n",
    "            # Print epoch summary\n",
    "            print(f\"Epoch {epoch+1}/{epochs}:\",\n",
    "                  f\"Train Loss={epoch_loss['train']:.4f},\" if loaders.get('train') else \"TrL=N/A,\",\n",
    "                  f\"Train Accuracy={epoch_acc['train']:.4f},\" if loaders.get('train') else \"TrA=N/A,\",\n",
    "                  f\"Val Loss={epoch_loss['val']:.4f},\" if loaders.get('val') else \"VL=N/A,\",\n",
    "                  f\"Val Accuracy={epoch_acc['val']:.4f},\" if loaders.get('val') else \"VA=N/A,\",\n",
    "                  f\"Test Loss={epoch_loss['test']:.4f},\" if loaders.get('test') else \"TeL=N/A,\",\n",
    "                  f\"Test Accuracy={epoch_acc['test']:.4f}\" if loaders.get('test') else \"TeA=N/A\")\n",
    "\n",
    "    except KeyboardInterrupt:\n",
    "        print(\"Training interrupted manually.\")\n",
    "\n",
    "    finally:\n",
    "        import matplotlib.pyplot as plt\n",
    "        plt.figure(figsize=(10, 4))\n",
    "\n",
    "        plt.subplot(1, 2, 1)\n",
    "        plt.title(\"Loss\")\n",
    "        for split in [\"train\", \"val\", \"test\"]:\n",
    "            if loaders.get(split): plt.plot(history_loss[split], label=split)\n",
    "        plt.legend()\n",
    "\n",
    "        plt.subplot(1, 2, 2)\n",
    "        plt.title(\"Accuracy\")\n",
    "        for split in [\"train\", \"val\", \"test\"]:\n",
    "            if loaders.get(split): plt.plot(history_accuracy[split], label=split)\n",
    "        plt.legend()\n",
    "\n",
    "        plt.tight_layout()\n",
    "        plt.show()"
   ]
  },
  {
   "cell_type": "code",
   "execution_count": 31,
   "id": "3da7a1c6",
   "metadata": {},
   "outputs": [
    {
     "name": "stdout",
     "output_type": "stream",
     "text": [
      "Training on device: cpu\n",
      "Saving best model checkpoint to: ./ecg_best_model.pt\n",
      "ECG1DCNN(\n",
      "  (conv1): Conv1d(12, 32, kernel_size=(7,), stride=(1,), padding=(3,))\n",
      "  (bn1): BatchNorm1d(32, eps=1e-05, momentum=0.1, affine=True, track_running_stats=True)\n",
      "  (pool1): MaxPool1d(kernel_size=2, stride=2, padding=0, dilation=1, ceil_mode=False)\n",
      "  (conv2): Conv1d(32, 64, kernel_size=(5,), stride=(1,), padding=(2,))\n",
      "  (bn2): BatchNorm1d(64, eps=1e-05, momentum=0.1, affine=True, track_running_stats=True)\n",
      "  (pool2): MaxPool1d(kernel_size=2, stride=2, padding=0, dilation=1, ceil_mode=False)\n",
      "  (conv3): Conv1d(64, 128, kernel_size=(3,), stride=(1,), padding=(1,))\n",
      "  (bn3): BatchNorm1d(128, eps=1e-05, momentum=0.1, affine=True, track_running_stats=True)\n",
      "  (pool3): AdaptiveAvgPool1d(output_size=1)\n",
      "  (tabular_net): Sequential(\n",
      "    (0): Linear(in_features=1000, out_features=32, bias=True)\n",
      "    (1): ReLU()\n",
      "    (2): Linear(in_features=32, out_features=32, bias=True)\n",
      "  )\n",
      "  (classifier): Sequential(\n",
      "    (0): Linear(in_features=160, out_features=64, bias=True)\n",
      "    (1): ReLU()\n",
      "    (2): Linear(in_features=64, out_features=28, bias=True)\n",
      "    (3): Sigmoid()\n",
      "  )\n",
      ")\n"
     ]
    },
    {
     "data": {
      "image/png": "[encoded data removed]",
      "text/plain": [
       "<Figure size 1000x400 with 2 Axes>"
      ]
     },
     "metadata": {},
     "output_type": "display_data"
    },
    {
     "ename": "ValueError",
     "evalue": "not enough values to unpack (expected 3, got 2)",
     "output_type": "error",
     "traceback": [
      "\u001b[31m---------------------------------------------------------------------------\u001b[39m",
      "\u001b[31mValueError\u001b[39m                                Traceback (most recent call last)",
      "\u001b[36mCell\u001b[39m\u001b[36m \u001b[39m\u001b[32mIn[31]\u001b[39m\u001b[32m, line 1\u001b[39m\n\u001b[32m----> \u001b[39m\u001b[32m1\u001b[39m \u001b[43mtrain_model_selection\u001b[49m\u001b[43m(\u001b[49m\n\u001b[32m      2\u001b[39m \u001b[43m    \u001b[49m\u001b[43mmodel\u001b[49m\u001b[43m,\u001b[49m\n\u001b[32m      3\u001b[39m \u001b[43m    \u001b[49m\u001b[43mloaders\u001b[49m\u001b[43m=\u001b[49m\u001b[43mloaders\u001b[49m\u001b[43m,\u001b[49m\n\u001b[32m      4\u001b[39m \u001b[43m    \u001b[49m\u001b[43moptimizer\u001b[49m\u001b[43m=\u001b[49m\u001b[43moptimizer\u001b[49m\u001b[43m,\u001b[49m\n\u001b[32m      5\u001b[39m \u001b[43m    \u001b[49m\u001b[43mcriterion\u001b[49m\u001b[43m=\u001b[49m\u001b[43mcriterion\u001b[49m\u001b[43m,\u001b[49m\n\u001b[32m      6\u001b[39m \u001b[43m    \u001b[49m\u001b[43mepochs\u001b[49m\u001b[43m=\u001b[49m\u001b[32;43m10\u001b[39;49m\u001b[43m,\u001b[49m\n\u001b[32m      7\u001b[39m \u001b[43m    \u001b[49m\u001b[43mdev\u001b[49m\u001b[43m=\u001b[49m\u001b[43mdevice\u001b[49m\u001b[43m,\u001b[49m\n\u001b[32m      8\u001b[39m \u001b[43m    \u001b[49m\u001b[43mcheckpoint_path\u001b[49m\u001b[43m=\u001b[49m\u001b[33;43m\"\u001b[39;49m\u001b[33;43m./ecg_best_model.pt\u001b[39;49m\u001b[33;43m\"\u001b[39;49m\n\u001b[32m      9\u001b[39m \u001b[43m)\u001b[49m\n",
      "\u001b[36mCell\u001b[39m\u001b[36m \u001b[39m\u001b[32mIn[30]\u001b[39m\u001b[32m, line 25\u001b[39m, in \u001b[36mtrain_model_selection\u001b[39m\u001b[34m(model, loaders, optimizer, criterion, epochs, dev, checkpoint_path)\u001b[39m\n\u001b[32m     21\u001b[39m     \u001b[38;5;28;01mcontinue\u001b[39;00m\n\u001b[32m     23\u001b[39m model.train() \u001b[38;5;28;01mif\u001b[39;00m split == \u001b[33m\"\u001b[39m\u001b[33mtrain\u001b[39m\u001b[33m\"\u001b[39m \u001b[38;5;28;01melse\u001b[39;00m model.eval()\n\u001b[32m---> \u001b[39m\u001b[32m25\u001b[39m \u001b[38;5;28;01mfor\u001b[39;00m ecg, tabular, labels \u001b[38;5;129;01min\u001b[39;00m loaders[split]:\n\u001b[32m     26\u001b[39m     ecg = ecg.permute(\u001b[32m0\u001b[39m, \u001b[32m2\u001b[39m, \u001b[32m1\u001b[39m).to(dev) \n\u001b[32m     27\u001b[39m     tabular = tabular.to(dev)\n",
      "\u001b[31mValueError\u001b[39m: not enough values to unpack (expected 3, got 2)"
     ]
    }
   ],
   "source": [
    "train_model_selection(\n",
    "    model,\n",
    "    loaders=loaders,\n",
    "    optimizer=optimizer,\n",
    "    criterion=criterion,\n",
    "    epochs=10,\n",
    "    dev=device,\n",
    "    checkpoint_path=\"./ecg_best_model.pt\"\n",
    ")"
   ]
  }
 ],
 "metadata": {
  "kernelspec": {
   "display_name": ".venv",
   "language": "python",
   "name": "python3"
  },
  "language_info": {
   "codemirror_mode": {
    "name": "ipython",
    "version": 3
   },
   "file_extension": ".py",
   "mimetype": "text/x-python",
   "name": "python",
   "nbconvert_exporter": "python",
   "pygments_lexer": "ipython3",
   "version": "3.12.2"
  }
 },
 "nbformat": 4,
 "nbformat_minor": 5
}
