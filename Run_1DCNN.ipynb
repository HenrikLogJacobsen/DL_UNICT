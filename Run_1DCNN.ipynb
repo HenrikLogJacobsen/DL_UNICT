{
 "cells": [
  {
   "cell_type": "code",
   "execution_count": 1,
   "id": "8f4258b2",
   "metadata": {},
   "outputs": [],
   "source": [
    "import pandas as pd\n",
    "import numpy as np\n",
    "import wfdb\n",
    "import ast\n",
    "import matplotlib.pyplot as plt\n",
    "import seaborn as sns\n",
    "from sklearn.preprocessing import StandardScaler\n",
    "\n",
    "import torch\n",
    "import torch.nn as nn\n",
    "import torch.nn.functional as F\n",
    "import torch.optim as optim\n",
    "from torch.utils.data import Dataset, DataLoader, TensorDataset\n",
    "\n"
   ]
  },
  {
   "cell_type": "code",
   "execution_count": 2,
   "id": "597e4ba7",
   "metadata": {},
   "outputs": [],
   "source": [
    "%store -r x_train\n",
    "%store -r y_train\n",
    "%store -r x_valid\n",
    "%store -r y_valid\n",
    "%store -r x_test\n",
    "%store -r y_test"
   ]
  },
  {
   "cell_type": "markdown",
   "id": "912a1ec3",
   "metadata": {},
   "source": [
    "# Model 1: Simple 1DCNN\n",
    "\n",
    "Our first model will be a simple 1D CNN model, without the use of any metadata as features, other than the ECG signal itself. This model will be used as a baseline to compare against more complex models that incorporate additional features."
   ]
  },
  {
   "cell_type": "code",
   "execution_count": 3,
   "id": "7d346ad8",
   "metadata": {},
   "outputs": [],
   "source": [
    "meta_features = ['age', 'sex', 'height', 'weight', 'nurse', 'site', 'device']\n",
    "meta_features.append('strat_fold') # will not be used for cross-validation in train set\n",
    "\n",
    "x_train = x_train\n",
    "x_valid = x_valid\n",
    "x_test = x_test\n",
    "x_meta_train = y_train[meta_features]\n",
    "x_meta_valid = y_valid[meta_features]\n",
    "x_meta_test = y_test[meta_features]\n",
    "y_train = y_train.drop(columns=meta_features)\n",
    "y_valid = y_valid.drop(columns=meta_features)\n",
    "y_test = y_test.drop(columns=meta_features)"
   ]
  },
  {
   "cell_type": "code",
   "execution_count": 4,
   "id": "659ac8ed",
   "metadata": {},
   "outputs": [
    {
     "data": {
      "text/plain": [
       "Index(['NORM', 'MI', 'STTC', 'HYP', 'CD', 'sub_NORM', 'sub_IMI', 'sub_STTC',\n",
       "       'sub_NST_', 'sub_LVH', 'sub_LAFB/LPFB', 'sub_RVH', 'sub_IRBBB',\n",
       "       'sub_RAO/RAE', 'sub_IVCD', 'sub_LMI', 'sub_AMI', 'sub__AVB', 'sub_ISCA',\n",
       "       'sub_ISC_', 'sub_SEHYP', 'sub_ISCI', 'sub_CRBBB', 'sub_CLBBB',\n",
       "       'sub_LAO/LAE', 'sub_ILBBB', 'sub_WPW', 'sub_PMI'],\n",
       "      dtype='object')"
      ]
     },
     "execution_count": 4,
     "metadata": {},
     "output_type": "execute_result"
    }
   ],
   "source": [
    "y_train.columns"
   ]
  },
  {
   "cell_type": "code",
   "execution_count": 5,
   "id": "b70b0387",
   "metadata": {},
   "outputs": [],
   "source": [
    "drop_columns = ['device', 'strat_fold']\n",
    "\n",
    "x_meta_train = x_meta_train.drop(columns=drop_columns)\n",
    "x_meta_valid = x_meta_valid.drop(columns=drop_columns)\n",
    "x_meta_test = x_meta_test.drop(columns=drop_columns)\n",
    "\n",
    "# Get rid of NaNs\n",
    "x_meta_train = x_meta_train.fillna(0)\n",
    "x_meta_valid = x_meta_valid.fillna(0)\n",
    "x_meta_test = x_meta_test.fillna(0)"
   ]
  },
  {
   "cell_type": "code",
   "execution_count": 6,
   "id": "a5b03b54",
   "metadata": {},
   "outputs": [
    {
     "data": {
      "text/plain": [
       "Index(['age', 'sex', 'height', 'weight', 'nurse', 'site'], dtype='object')"
      ]
     },
     "execution_count": 6,
     "metadata": {},
     "output_type": "execute_result"
    }
   ],
   "source": [
    "x_meta_test.columns"
   ]
  },
  {
   "cell_type": "markdown",
   "id": "b042cc05",
   "metadata": {},
   "source": [
    "### Normalize/standardize"
   ]
  },
  {
   "cell_type": "code",
   "execution_count": 7,
   "id": "9ba4690e",
   "metadata": {},
   "outputs": [
    {
     "name": "stdout",
     "output_type": "stream",
     "text": [
      "x_train shape: (17441, 1000, 12)\n",
      "x_meta_test shape: (2203, 6)\n"
     ]
    }
   ],
   "source": [
    "print('x_train shape:', x_train.shape)\n",
    "print('x_meta_test shape:', x_meta_test.shape)"
   ]
  },
  {
   "cell_type": "code",
   "execution_count": 8,
   "id": "f058873c",
   "metadata": {},
   "outputs": [],
   "source": [
    "# Standardize the features across all 12 channels\n",
    "num_channels = x_train.shape[2] # 12\n",
    "\n",
    "x_train = np.empty_like(x_train)\n",
    "x_valid = np.empty_like(x_valid)\n",
    "x_test = np.empty_like(x_test)\n",
    "\n",
    "scalers = []\n",
    "for ch in range(num_channels):\n",
    "    scaler = StandardScaler()\n",
    "    x_train[:, :, ch] = scaler.fit_transform(x_train[:, :, ch])\n",
    "    x_valid[:, :, ch] = scaler.transform(x_valid[:, :, ch])\n",
    "    x_test[:, :, ch] = scaler.transform(x_test[:, :, ch])\n",
    "    scalers.append(scaler)\n"
   ]
  },
  {
   "cell_type": "code",
   "execution_count": 9,
   "id": "4f9471fd",
   "metadata": {},
   "outputs": [],
   "source": [
    "# Standardize the meta features\n",
    "x_meta_scaler = StandardScaler()\n",
    "x_meta_scaler.fit(x_meta_train)\n",
    "\n",
    "x_meta_train = pd.DataFrame(x_meta_scaler.transform(x_meta_train), columns=x_meta_train.columns)\n",
    "x_meta_valid = pd.DataFrame(x_meta_scaler.transform(x_meta_valid), columns=x_meta_valid.columns)\n",
    "x_meta_test = pd.DataFrame(x_meta_scaler.transform(x_meta_test), columns=x_meta_test.columns)"
   ]
  },
  {
   "cell_type": "code",
   "execution_count": 10,
   "id": "fa16b3b6",
   "metadata": {},
   "outputs": [],
   "source": [
    "#for i, scaler in enumerate(scalers):\n",
    "#    print(f\"Channel {i}: mean={scaler.mean_[0]:.4f}, std={scaler.scale_[0]:.4f}\")"
   ]
  },
  {
   "cell_type": "code",
   "execution_count": 11,
   "id": "5f8269dc",
   "metadata": {},
   "outputs": [],
   "source": [
    "class ECG1DCNN(nn.Module):\n",
    "    def __init__(self, num_features, num_labels):\n",
    "        super(ECG1DCNN, self).__init__()\n",
    "        \n",
    "        # CNN for ECG signal (12 leads)\n",
    "        self.conv1 = nn.Conv1d(12, 32, kernel_size=7, stride=1, padding=3)\n",
    "        self.bn1 = nn.BatchNorm1d(32)\n",
    "        self.pool1 = nn.MaxPool1d(2)\n",
    "        \n",
    "        self.conv2 = nn.Conv1d(32, 64, kernel_size=5, stride=1, padding=2)\n",
    "        self.bn2 = nn.BatchNorm1d(64)\n",
    "        self.pool2 = nn.MaxPool1d(2)\n",
    "        \n",
    "        self.conv3 = nn.Conv1d(64, 128, kernel_size=3, stride=1, padding=1)\n",
    "        self.bn3 = nn.BatchNorm1d(128)\n",
    "        self.pool3 = nn.AdaptiveAvgPool1d(1)  # Output shape: (batch, 128, 1)\n",
    "\n",
    "        # MLP for tabular features\n",
    "        self.tabular_net = nn.Sequential(\n",
    "            nn.Linear(num_features, 32),\n",
    "            nn.ReLU(),\n",
    "            nn.Linear(32, 32)\n",
    "        )\n",
    "\n",
    "        # Final classifier\n",
    "        self.classifier = nn.Sequential(\n",
    "            nn.Linear(128 + 32, 64),\n",
    "            nn.ReLU(),\n",
    "            nn.Linear(64, num_labels),\n",
    "            nn.Sigmoid()  # for multilabel\n",
    "        )\n",
    "\n",
    "    def forward(self, ecg, tabular):\n",
    "        # ECG branch\n",
    "        x = F.relu(self.bn1(self.conv1(ecg)))\n",
    "        x = self.pool1(x)\n",
    "        x = F.relu(self.bn2(self.conv2(x)))\n",
    "        x = self.pool2(x)\n",
    "        x = F.relu(self.bn3(self.conv3(x)))\n",
    "        x = self.pool3(x)\n",
    "        x = x.view(x.size(0), -1)  # flatten\n",
    "\n",
    "        # Tabular branch\n",
    "        t = self.tabular_net(tabular)\n",
    "\n",
    "        # Concatenate & classify\n",
    "        combined = torch.cat((x, t), dim=1)\n",
    "        out = self.classifier(combined)\n",
    "        return out"
   ]
  },
  {
   "cell_type": "code",
   "execution_count": 12,
   "id": "7ba76d0e",
   "metadata": {},
   "outputs": [],
   "source": [
    "def train_model_selection(model, loaders, optimizer, criterion, epochs=10, dev=torch.device('cpu'), checkpoint_path='best_model.pt'):\n",
    "    model = model.to(dev)\n",
    "    best_val_loss = float('inf')\n",
    "    history_loss = {'train': [], 'val': []}\n",
    "    history_acc = {'train': [], 'val': []}\n",
    "\n",
    "    for epoch in range(epochs):\n",
    "        for phase in ['train', 'val']:\n",
    "            model.train() if phase == 'train' else model.eval()\n",
    "            running_loss, corrects, total = 0.0, 0, 0\n",
    "\n",
    "            for ecg, tabular, labels in loaders[phase]:\n",
    "                ecg, tabular, labels = ecg.to(dev), tabular.to(dev), labels.to(dev)\n",
    "                optimizer.zero_grad()\n",
    "\n",
    "                with torch.set_grad_enabled(phase == 'train'):\n",
    "                    outputs = model(ecg, tabular)\n",
    "                    loss = criterion(outputs, labels)\n",
    "                    if phase == 'train':\n",
    "                        loss.backward()\n",
    "                        optimizer.step()\n",
    "\n",
    "                running_loss += loss.item() * ecg.size(0)\n",
    "                preds = (outputs > 0.5).float()\n",
    "                corrects += (preds == labels).sum().item()\n",
    "                total += labels.numel()\n",
    "\n",
    "            epoch_loss = running_loss / len(loaders[phase].dataset)\n",
    "            epoch_acc = corrects / total\n",
    "            history_loss[phase].append(epoch_loss)\n",
    "            history_acc[phase].append(epoch_acc)\n",
    "\n",
    "            print(f\"[{epoch+1}/{epochs}] {phase.upper()} Loss: {epoch_loss:.4f} | Acc: {epoch_acc:.4f}\")\n",
    "\n",
    "            if phase == 'val' and epoch_loss < best_val_loss:\n",
    "                best_val_loss = epoch_loss\n",
    "                torch.save(model.state_dict(), checkpoint_path)\n",
    "\n",
    "    return history_loss, history_acc"
   ]
  },
  {
   "cell_type": "code",
   "execution_count": 16,
   "id": "128a9bdf",
   "metadata": {},
   "outputs": [],
   "source": [
    "from helpers import to_tensor\n",
    "\n",
    "num_metafeatures = x_meta_train.shape[1]\n",
    "num_labels = y_train.shape[1]\n",
    "\n",
    "model = ECG1DCNN(num_features=num_metafeatures, num_labels=num_labels)\n",
    "\n",
    "# Loss and optimizer\n",
    "criterion = nn.BCELoss()  # For multilabel classification with sigmoid\n",
    "optimizer = optim.Adam(model.parameters(), lr=1e-3)\n",
    "\n",
    "# Device selection\n",
    "device = torch.device(\"cuda\" if torch.cuda.is_available() else \"cpu\")\n",
    "\n",
    "train_ds = TensorDataset(to_tensor(x_train), to_tensor(x_meta_train), to_tensor(y_train))\n",
    "valid_ds = TensorDataset(to_tensor(x_valid), to_tensor(x_meta_valid), to_tensor(y_valid))\n",
    "test_ds = TensorDataset(to_tensor(x_test), to_tensor(x_meta_test), to_tensor(y_test))\n",
    "\n",
    "# Dataloaders\n",
    "loaders = {\n",
    "    \"train\": DataLoader(train_ds, batch_size=64, shuffle=True),\n",
    "    \"val\":   DataLoader(valid_ds, batch_size=64),\n",
    "    \"test\":  DataLoader(test_ds, batch_size=64)\n",
    "}"
   ]
  },
  {
   "cell_type": "code",
   "execution_count": 14,
   "id": "6db6576a",
   "metadata": {},
   "outputs": [],
   "source": [
    "def train_model_selection(model, loaders, optimizer, criterion, epochs=10, dev=torch.device('cpu'), checkpoint_path='./ecg_best_model.pt'):\n",
    "    best_val_loss = float('inf')\n",
    "    print(f\"Training on device: {dev}\")\n",
    "    print(f\"Saving best model checkpoint to: {checkpoint_path}\")\n",
    "    try:\n",
    "        model = model.to(dev)\n",
    "        print(model)\n",
    "\n",
    "        history_loss = {\"train\": [], \"val\": [], \"test\": []}\n",
    "        history_accuracy = {\"train\": [], \"val\": [], \"test\": []}\n",
    "\n",
    "        for epoch in range(epochs):\n",
    "            sum_loss = {\"train\": 0, \"val\": 0, \"test\": 0}\n",
    "            sum_accuracy = {\"train\": 0, \"val\": 0, \"test\": 0}\n",
    "\n",
    "            for split in [\"train\", \"val\", \"test\"]:\n",
    "                if not loaders.get(split):\n",
    "                    print(f\"Skipping {split} phase for epoch {epoch+1} due to empty loader.\")\n",
    "                    history_loss[split].append(float('nan'))\n",
    "                    history_accuracy[split].append(float('nan'))\n",
    "                    continue\n",
    "\n",
    "                model.train() if split == \"train\" else model.eval()\n",
    "\n",
    "                for ecg, tabular, labels in loaders[split]:\n",
    "                    ecg = ecg.permute(0, 2, 1).to(dev) \n",
    "                    tabular = tabular.to(dev)\n",
    "                    labels = labels.to(dev)\n",
    "\n",
    "                    optimizer.zero_grad()\n",
    "                    with torch.set_grad_enabled(split == \"train\"):\n",
    "                        outputs = model(ecg, tabular)\n",
    "                        loss = criterion(outputs, labels)\n",
    "                        if split == \"train\":\n",
    "                            loss.backward()\n",
    "                            optimizer.step()\n",
    "\n",
    "                    sum_loss[split] += loss.item()\n",
    "                    preds = (outputs > 0.5).float()\n",
    "                    batch_acc = (preds == labels).sum().item() / labels.numel()\n",
    "                    sum_accuracy[split] += batch_acc\n",
    "\n",
    "            # Average epoch metrics\n",
    "            epoch_loss = {s: (sum_loss[s] / len(loaders[s]) if loaders.get(s) else float('nan')) for s in [\"train\", \"val\", \"test\"]}\n",
    "            epoch_acc = {s: (sum_accuracy[s] / len(loaders[s]) if loaders.get(s) else float('nan')) for s in [\"train\", \"val\", \"test\"]}\n",
    "\n",
    "            # Save best model\n",
    "            if loaders.get(\"val\") and epoch_loss[\"val\"] < best_val_loss:\n",
    "                best_val_loss = epoch_loss[\"val\"]\n",
    "                torch.save({\n",
    "                    \"epoch\": epoch,\n",
    "                    \"model_state_dict\": model.state_dict(),\n",
    "                    \"optimizer_state_dict\": optimizer.state_dict(),\n",
    "                    \"val_loss\": epoch_loss[\"val\"]\n",
    "                }, checkpoint_path)\n",
    "                print(f\"Epoch {epoch+1}: Saved best model with Val_Loss: {best_val_loss:.4f}\")\n",
    "\n",
    "            # Store history\n",
    "            for s in [\"train\", \"val\", \"test\"]:\n",
    "                history_loss[s].append(epoch_loss[s])\n",
    "                history_accuracy[s].append(epoch_acc[s])\n",
    "\n",
    "            # Print epoch summary\n",
    "            print(f\"Epoch {epoch+1}/{epochs}:\",\n",
    "                  f\"Train Loss={epoch_loss['train']:.4f},\" if loaders.get('train') else \"TrL=N/A,\",\n",
    "                  f\"Train Accuracy={epoch_acc['train']:.4f},\" if loaders.get('train') else \"TrA=N/A,\",\n",
    "                  f\"Val Loss={epoch_loss['val']:.4f},\" if loaders.get('val') else \"VL=N/A,\",\n",
    "                  f\"Val Accuracy={epoch_acc['val']:.4f},\" if loaders.get('val') else \"VA=N/A,\",\n",
    "                  f\"Test Loss={epoch_loss['test']:.4f},\" if loaders.get('test') else \"TeL=N/A,\",\n",
    "                  f\"Test Accuracy={epoch_acc['test']:.4f}\" if loaders.get('test') else \"TeA=N/A\")\n",
    "\n",
    "    except KeyboardInterrupt:\n",
    "        print(\"Training interrupted manually.\")\n",
    "\n",
    "    finally:\n",
    "        import matplotlib.pyplot as plt\n",
    "        plt.figure(figsize=(10, 4))\n",
    "\n",
    "        plt.subplot(1, 2, 1)\n",
    "        plt.title(\"Loss\")\n",
    "        for split in [\"train\", \"val\", \"test\"]:\n",
    "            if loaders.get(split): plt.plot(history_loss[split], label=split)\n",
    "        plt.legend()\n",
    "\n",
    "        plt.subplot(1, 2, 2)\n",
    "        plt.title(\"Accuracy\")\n",
    "        for split in [\"train\", \"val\", \"test\"]:\n",
    "            if loaders.get(split): plt.plot(history_accuracy[split], label=split)\n",
    "        plt.legend()\n",
    "\n",
    "        plt.tight_layout()\n",
    "        plt.show()"
   ]
  },
  {
   "cell_type": "markdown",
   "id": "eb4f3adc",
   "metadata": {},
   "source": [
    "### Model training"
   ]
  },
  {
   "cell_type": "code",
   "execution_count": 17,
   "id": "3da7a1c6",
   "metadata": {},
   "outputs": [
    {
     "name": "stdout",
     "output_type": "stream",
     "text": [
      "Training on device: cpu\n",
      "Saving best model checkpoint to: ./ecg_best_model.pt\n",
      "ECG1DCNN(\n",
      "  (conv1): Conv1d(12, 32, kernel_size=(7,), stride=(1,), padding=(3,))\n",
      "  (bn1): BatchNorm1d(32, eps=1e-05, momentum=0.1, affine=True, track_running_stats=True)\n",
      "  (pool1): MaxPool1d(kernel_size=2, stride=2, padding=0, dilation=1, ceil_mode=False)\n",
      "  (conv2): Conv1d(32, 64, kernel_size=(5,), stride=(1,), padding=(2,))\n",
      "  (bn2): BatchNorm1d(64, eps=1e-05, momentum=0.1, affine=True, track_running_stats=True)\n",
      "  (pool2): MaxPool1d(kernel_size=2, stride=2, padding=0, dilation=1, ceil_mode=False)\n",
      "  (conv3): Conv1d(64, 128, kernel_size=(3,), stride=(1,), padding=(1,))\n",
      "  (bn3): BatchNorm1d(128, eps=1e-05, momentum=0.1, affine=True, track_running_stats=True)\n",
      "  (pool3): AdaptiveAvgPool1d(output_size=1)\n",
      "  (tabular_net): Sequential(\n",
      "    (0): Linear(in_features=6, out_features=32, bias=True)\n",
      "    (1): ReLU()\n",
      "    (2): Linear(in_features=32, out_features=32, bias=True)\n",
      "  )\n",
      "  (classifier): Sequential(\n",
      "    (0): Linear(in_features=160, out_features=64, bias=True)\n",
      "    (1): ReLU()\n",
      "    (2): Linear(in_features=64, out_features=28, bias=True)\n",
      "    (3): Sigmoid()\n",
      "  )\n",
      ")\n",
      "Epoch 1: Saved best model with Val_Loss: 0.2317\n",
      "Epoch 1/10: Train Loss=0.2858, Train Accuracy=0.8971, Val Loss=0.2317, Val Accuracy=0.9148, Test Loss=0.2344, Test Accuracy=0.9142\n",
      "Epoch 2: Saved best model with Val_Loss: 0.2283\n",
      "Epoch 2/10: Train Loss=0.2295, Train Accuracy=0.9151, Val Loss=0.2283, Val Accuracy=0.9147, Test Loss=0.2309, Test Accuracy=0.9138\n",
      "Epoch 3: Saved best model with Val_Loss: 0.2276\n",
      "Epoch 3/10: Train Loss=0.2277, Train Accuracy=0.9152, Val Loss=0.2276, Val Accuracy=0.9143, Test Loss=0.2301, Test Accuracy=0.9138\n",
      "Epoch 4/10: Train Loss=0.2265, Train Accuracy=0.9153, Val Loss=0.2279, Val Accuracy=0.9150, Test Loss=0.2299, Test Accuracy=0.9142\n",
      "Epoch 5/10: Train Loss=0.2261, Train Accuracy=0.9154, Val Loss=0.2277, Val Accuracy=0.9151, Test Loss=0.2300, Test Accuracy=0.9145\n",
      "Epoch 6/10: Train Loss=0.2253, Train Accuracy=0.9156, Val Loss=0.2291, Val Accuracy=0.9147, Test Loss=0.2306, Test Accuracy=0.9140\n",
      "Epoch 7: Saved best model with Val_Loss: 0.2254\n",
      "Epoch 7/10: Train Loss=0.2250, Train Accuracy=0.9155, Val Loss=0.2254, Val Accuracy=0.9147, Test Loss=0.2274, Test Accuracy=0.9142\n",
      "Epoch 8/10: Train Loss=0.2247, Train Accuracy=0.9155, Val Loss=0.2260, Val Accuracy=0.9153, Test Loss=0.2277, Test Accuracy=0.9143\n",
      "Epoch 9/10: Train Loss=0.2244, Train Accuracy=0.9156, Val Loss=0.2260, Val Accuracy=0.9151, Test Loss=0.2271, Test Accuracy=0.9146\n",
      "Epoch 10/10: Train Loss=0.2238, Train Accuracy=0.9156, Val Loss=0.2256, Val Accuracy=0.9148, Test Loss=0.2270, Test Accuracy=0.9148\n"
     ]
    },
    {
     "data": {
      "image/png": "[encoded data removed]",
      "text/plain": [
       "<Figure size 1000x400 with 2 Axes>"
      ]
     },
     "metadata": {},
     "output_type": "display_data"
    }
   ],
   "source": [
    "train_model_selection(\n",
    "    model,\n",
    "    loaders=loaders,\n",
    "    optimizer=optimizer,\n",
    "    criterion=criterion,\n",
    "    epochs=10,\n",
    "    dev=device,\n",
    "    checkpoint_path=\"./ecg_best_model.pt\"\n",
    ")"
   ]
  },
  {
   "cell_type": "markdown",
   "id": "15511fb9",
   "metadata": {},
   "source": [
    "## Model evaluation"
   ]
  },
  {
   "cell_type": "code",
   "execution_count": 19,
   "id": "314b60a6",
   "metadata": {},
   "outputs": [
    {
     "name": "stdout",
     "output_type": "stream",
     "text": [
      "Per-class accuracy:\n",
      "NORM: 0.7031\n",
      "MI: 0.7490\n",
      "STTC: 0.7626\n",
      "HYP: 0.8806\n",
      "CD: 0.7739\n",
      "\n",
      "Classification report (macro avg):\n",
      "              precision    recall  f1-score   support\n",
      "\n",
      "        NORM       0.68      0.61      0.64       964\n",
      "          MI       0.00      0.00      0.00       553\n",
      "        STTC       0.00      0.00      0.00       523\n",
      "         HYP       0.00      0.00      0.00       263\n",
      "          CD       0.00      0.00      0.00       498\n",
      "\n",
      "   micro avg       0.68      0.21      0.32      2801\n",
      "   macro avg       0.14      0.12      0.13      2801\n",
      "weighted avg       0.23      0.21      0.22      2801\n",
      " samples avg       0.27      0.26      0.26      2801\n",
      "\n"
     ]
    },
    {
     "name": "stderr",
     "output_type": "stream",
     "text": [
      "c:\\Users\\loghe\\OneDrive\\Dokumenter\\Skole\\Vår25\\Deep_Learning\\project\\DL_UNICT\\.venv\\Lib\\site-packages\\sklearn\\metrics\\_classification.py:1706: UndefinedMetricWarning: Precision is ill-defined and being set to 0.0 in labels with no predicted samples. Use `zero_division` parameter to control this behavior.\n",
      "  _warn_prf(average, modifier, f\"{metric.capitalize()} is\", result.shape[0])\n",
      "c:\\Users\\loghe\\OneDrive\\Dokumenter\\Skole\\Vår25\\Deep_Learning\\project\\DL_UNICT\\.venv\\Lib\\site-packages\\sklearn\\metrics\\_classification.py:1706: UndefinedMetricWarning: Precision is ill-defined and being set to 0.0 in samples with no predicted labels. Use `zero_division` parameter to control this behavior.\n",
      "  _warn_prf(average, modifier, f\"{metric.capitalize()} is\", result.shape[0])\n",
      "c:\\Users\\loghe\\OneDrive\\Dokumenter\\Skole\\Vår25\\Deep_Learning\\project\\DL_UNICT\\.venv\\Lib\\site-packages\\sklearn\\metrics\\_classification.py:1706: UndefinedMetricWarning: Recall is ill-defined and being set to 0.0 in samples with no true labels. Use `zero_division` parameter to control this behavior.\n",
      "  _warn_prf(average, modifier, f\"{metric.capitalize()} is\", result.shape[0])\n",
      "c:\\Users\\loghe\\OneDrive\\Dokumenter\\Skole\\Vår25\\Deep_Learning\\project\\DL_UNICT\\.venv\\Lib\\site-packages\\sklearn\\metrics\\_classification.py:1706: UndefinedMetricWarning: F-score is ill-defined and being set to 0.0 in samples with no true nor predicted labels. Use `zero_division` parameter to control this behavior.\n",
      "  _warn_prf(average, modifier, f\"{metric.capitalize()} is\", result.shape[0])\n"
     ]
    }
   ],
   "source": [
    "superclasses = ['NORM', 'MI', 'STTC', 'HYP', 'CD']\n",
    "\n",
    "y_test_super = y_test[superclasses].values\n",
    "\n",
    "# Get predictions from the model\n",
    "model.eval()\n",
    "all_preds = []\n",
    "all_labels = []\n",
    "\n",
    "with torch.no_grad():\n",
    "    for ecg, tabular, labels in loaders[\"test\"]:\n",
    "        ecg = ecg.permute(0, 2, 1).to(device)\n",
    "        tabular = tabular.to(device)\n",
    "        outputs = model(ecg, tabular)\n",
    "        preds = (outputs.cpu().numpy() > 0.5).astype(int)\n",
    "        # Only keep the columns for superclasses\n",
    "        preds_super = preds[:, [y_test.columns.get_loc(c) for c in superclasses]]\n",
    "        all_preds.append(preds_super)\n",
    "        all_labels.append(labels.cpu().numpy()[:, [y_test.columns.get_loc(c) for c in superclasses]])\n",
    "\n",
    "# Concatenate all batches\n",
    "all_preds = np.vstack(all_preds)\n",
    "all_labels = np.vstack(all_labels)\n",
    "\n",
    "# Calculate accuracy for each superclass\n",
    "from sklearn.metrics import accuracy_score, classification_report\n",
    "\n",
    "print(\"Per-class accuracy:\")\n",
    "for i, c in enumerate(superclasses):\n",
    "    print(f\"{c}: {accuracy_score(all_labels[:, i], all_preds[:, i]):.4f}\")\n",
    "\n",
    "print(\"\\nClassification report (macro avg):\")\n",
    "print(classification_report(all_labels, all_preds, target_names=superclasses))"
   ]
  }
 ],
 "metadata": {
  "kernelspec": {
   "display_name": ".venv",
   "language": "python",
   "name": "python3"
  },
  "language_info": {
   "codemirror_mode": {
    "name": "ipython",
    "version": 3
   },
   "file_extension": ".py",
   "mimetype": "text/x-python",
   "name": "python",
   "nbconvert_exporter": "python",
   "pygments_lexer": "ipython3",
   "version": "3.12.2"
  }
 },
 "nbformat": 4,
 "nbformat_minor": 5
}
