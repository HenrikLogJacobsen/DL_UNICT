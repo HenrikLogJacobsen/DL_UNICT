{
 "cells": [
  {
   "cell_type": "code",
   "execution_count": 1,
   "id": "8f4258b2",
   "metadata": {},
   "outputs": [],
   "source": [
    "import pandas as pd\n",
    "import numpy as np\n",
    "import wfdb\n",
    "import ast\n",
    "import matplotlib.pyplot as plt\n",
    "import seaborn as sns\n"
   ]
  },
  {
   "cell_type": "code",
   "execution_count": 2,
   "id": "597e4ba7",
   "metadata": {},
   "outputs": [],
   "source": [
    "%store -r x_train\n",
    "%store -r y_train\n",
    "%store -r x_valid\n",
    "%store -r y_valid\n",
    "%store -r x_test\n",
    "%store -r y_test"
   ]
  },
  {
   "cell_type": "markdown",
   "id": "912a1ec3",
   "metadata": {},
   "source": [
    "# Model 1: Simple 1DCNN\n",
    "\n",
    "Our first model will be a simple 1D CNN model, without the use of any metadata as features, other than the ECG signal itself. This model will be used as a baseline to compare against more complex models that incorporate additional features."
   ]
  },
  {
   "cell_type": "code",
   "execution_count": null,
   "id": "7d346ad8",
   "metadata": {},
   "outputs": [],
   "source": [
    "meta_features = ['age', 'sex', 'height', 'weight', 'nurse', 'site', 'device']\n",
    "meta_features.append('strat_fold') # will not be used \n",
    "\n",
    "x_train = x_train\n",
    "x_valid = x_valid\n",
    "x_test = x_test\n",
    "y_train = y_train.drop(columns=meta_features)\n",
    "y_valid = y_valid.drop(columns=meta_features)\n",
    "y_test = y_test.drop(columns=meta_features)"
   ]
  },
  {
   "cell_type": "code",
   "execution_count": 9,
   "id": "659ac8ed",
   "metadata": {},
   "outputs": [
    {
     "data": {
      "text/plain": [
       "Index(['NORM', 'MI', 'STTC', 'HYP', 'CD', 'sub_NORM', 'sub_IMI', 'sub_STTC',\n",
       "       'sub_NST_', 'sub_LVH', 'sub_LAFB/LPFB', 'sub_RVH', 'sub_IRBBB',\n",
       "       'sub_RAO/RAE', 'sub_IVCD', 'sub_LMI', 'sub_AMI', 'sub__AVB', 'sub_ISCA',\n",
       "       'sub_ISC_', 'sub_SEHYP', 'sub_ISCI', 'sub_CRBBB', 'sub_CLBBB',\n",
       "       'sub_LAO/LAE', 'sub_ILBBB', 'sub_WPW', 'sub_PMI'],\n",
       "      dtype='object')"
      ]
     },
     "execution_count": 9,
     "metadata": {},
     "output_type": "execute_result"
    }
   ],
   "source": [
    "y_train.columns"
   ]
  }
 ],
 "metadata": {
  "kernelspec": {
   "display_name": ".venv",
   "language": "python",
   "name": "python3"
  },
  "language_info": {
   "codemirror_mode": {
    "name": "ipython",
    "version": 3
   },
   "file_extension": ".py",
   "mimetype": "text/x-python",
   "name": "python",
   "nbconvert_exporter": "python",
   "pygments_lexer": "ipython3",
   "version": "3.12.2"
  }
 },
 "nbformat": 4,
 "nbformat_minor": 5
}
