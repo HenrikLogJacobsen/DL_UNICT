{
 "cells": [
  {
   "cell_type": "markdown",
   "id": "d66b803e",
   "metadata": {},
   "source": [
    "## Imports"
   ]
  },
  {
   "cell_type": "code",
   "execution_count": 1,
   "id": "bafb3ca6",
   "metadata": {},
   "outputs": [],
   "source": [
    "import pandas as pd\n",
    "import numpy as np\n",
    "import wfdb\n",
    "import ast\n",
    "\n",
    "from helpers import load_raw_data"
   ]
  },
  {
   "cell_type": "markdown",
   "id": "8375466a",
   "metadata": {},
   "source": [
    "## Load data"
   ]
  },
  {
   "cell_type": "code",
   "execution_count": 2,
   "id": "8b7d6d7b",
   "metadata": {},
   "outputs": [
    {
     "name": "stderr",
     "output_type": "stream",
     "text": [
      "100%|██████████| 21837/21837 [10:32<00:00, 34.51it/s]\n"
     ]
    }
   ],
   "source": [
    "#path = '../input/ptb-xl-dataset/ptb-xl-a-large-publicly-available-electrocardiography-dataset-1.0.1/'\n",
    "path = 'ptb-xl_ecg/'\n",
    "\n",
    "Y = pd.read_csv(path + 'ptbxl_database.csv', index_col='ecg_id')\n",
    "Y.scp_codes = Y.scp_codes.apply(lambda x: ast.literal_eval(x))\n",
    "\n",
    "X = load_raw_data(df = Y, path=path)"
   ]
  },
  {
   "cell_type": "markdown",
   "id": "15ba9440",
   "metadata": {},
   "source": [
    "## Initial analysis"
   ]
  },
  {
   "cell_type": "code",
   "execution_count": 1,
   "id": "a835d74c",
   "metadata": {},
   "outputs": [
    {
     "ename": "NameError",
     "evalue": "name 'X' is not defined",
     "output_type": "error",
     "traceback": [
      "\u001b[31m---------------------------------------------------------------------------\u001b[39m",
      "\u001b[31mNameError\u001b[39m                                 Traceback (most recent call last)",
      "\u001b[36mCell\u001b[39m\u001b[36m \u001b[39m\u001b[32mIn[1]\u001b[39m\u001b[32m, line 1\u001b[39m\n\u001b[32m----> \u001b[39m\u001b[32m1\u001b[39m \u001b[38;5;28mprint\u001b[39m(\u001b[33m'\u001b[39m\u001b[33mX shape:\u001b[39m\u001b[33m'\u001b[39m, \u001b[43mX\u001b[49m.shape)\n\u001b[32m      2\u001b[39m \u001b[38;5;28mprint\u001b[39m(\u001b[33m'\u001b[39m\u001b[33mY shape:\u001b[39m\u001b[33m'\u001b[39m, Y.shape, \u001b[33m'\u001b[39m\u001b[38;5;130;01m\\n\u001b[39;00m\u001b[33m'\u001b[39m)\n\u001b[32m      4\u001b[39m \u001b[38;5;28mprint\u001b[39m(Y.columns, \u001b[33m'\u001b[39m\u001b[38;5;130;01m\\n\u001b[39;00m\u001b[33m'\u001b[39m)\n",
      "\u001b[31mNameError\u001b[39m: name 'X' is not defined"
     ]
    }
   ],
   "source": [
    "print('X shape:', X.shape)\n",
    "print('Y shape:', Y.shape, '\\n')\n",
    "\n",
    "print(Y.columns, '\\n')\n",
    "\n",
    "print('Unique classes:', Y['scp_codes'].explode().unique(), '\\n')\n",
    "\n",
    "print(Y.head())"
   ]
  },
  {
   "cell_type": "markdown",
   "id": "3c6440c3",
   "metadata": {},
   "source": [
    "## Heart Beat Diagnostic data"
   ]
  },
  {
   "cell_type": "code",
   "execution_count": 22,
   "id": "2d01eefd",
   "metadata": {},
   "outputs": [
    {
     "name": "stdout",
     "output_type": "stream",
     "text": [
      "(44, 12)\n"
     ]
    },
    {
     "data": {
      "text/html": [
       "<div>\n",
       "<style scoped>\n",
       "    .dataframe tbody tr th:only-of-type {\n",
       "        vertical-align: middle;\n",
       "    }\n",
       "\n",
       "    .dataframe tbody tr th {\n",
       "        vertical-align: top;\n",
       "    }\n",
       "\n",
       "    .dataframe thead th {\n",
       "        text-align: right;\n",
       "    }\n",
       "</style>\n",
       "<table border=\"1\" class=\"dataframe\">\n",
       "  <thead>\n",
       "    <tr style=\"text-align: right;\">\n",
       "      <th></th>\n",
       "      <th>description</th>\n",
       "      <th>diagnostic</th>\n",
       "      <th>form</th>\n",
       "      <th>rhythm</th>\n",
       "      <th>diagnostic_class</th>\n",
       "      <th>diagnostic_subclass</th>\n",
       "      <th>Statement Category</th>\n",
       "      <th>SCP-ECG Statement Description</th>\n",
       "      <th>AHA code</th>\n",
       "      <th>aECG REFID</th>\n",
       "      <th>CDISC Code</th>\n",
       "      <th>DICOM Code</th>\n",
       "    </tr>\n",
       "  </thead>\n",
       "  <tbody>\n",
       "    <tr>\n",
       "      <th>NDT</th>\n",
       "      <td>non-diagnostic T abnormalities</td>\n",
       "      <td>1.0</td>\n",
       "      <td>1.0</td>\n",
       "      <td>NaN</td>\n",
       "      <td>STTC</td>\n",
       "      <td>STTC</td>\n",
       "      <td>other ST-T descriptive statements</td>\n",
       "      <td>non-diagnostic T abnormalities</td>\n",
       "      <td>NaN</td>\n",
       "      <td>NaN</td>\n",
       "      <td>NaN</td>\n",
       "      <td>NaN</td>\n",
       "    </tr>\n",
       "    <tr>\n",
       "      <th>NST_</th>\n",
       "      <td>non-specific ST changes</td>\n",
       "      <td>1.0</td>\n",
       "      <td>1.0</td>\n",
       "      <td>NaN</td>\n",
       "      <td>STTC</td>\n",
       "      <td>NST_</td>\n",
       "      <td>Basic roots for coding ST-T changes and abnorm...</td>\n",
       "      <td>non-specific ST changes</td>\n",
       "      <td>145.0</td>\n",
       "      <td>MDC_ECG_RHY_STHILOST</td>\n",
       "      <td>NaN</td>\n",
       "      <td>NaN</td>\n",
       "    </tr>\n",
       "    <tr>\n",
       "      <th>DIG</th>\n",
       "      <td>digitalis-effect</td>\n",
       "      <td>1.0</td>\n",
       "      <td>1.0</td>\n",
       "      <td>NaN</td>\n",
       "      <td>STTC</td>\n",
       "      <td>STTC</td>\n",
       "      <td>other ST-T descriptive statements</td>\n",
       "      <td>suggests digitalis-effect</td>\n",
       "      <td>205.0</td>\n",
       "      <td>NaN</td>\n",
       "      <td>NaN</td>\n",
       "      <td>NaN</td>\n",
       "    </tr>\n",
       "    <tr>\n",
       "      <th>LNGQT</th>\n",
       "      <td>long QT-interval</td>\n",
       "      <td>1.0</td>\n",
       "      <td>1.0</td>\n",
       "      <td>NaN</td>\n",
       "      <td>STTC</td>\n",
       "      <td>STTC</td>\n",
       "      <td>other ST-T descriptive statements</td>\n",
       "      <td>long QT-interval</td>\n",
       "      <td>148.0</td>\n",
       "      <td>NaN</td>\n",
       "      <td>NaN</td>\n",
       "      <td>NaN</td>\n",
       "    </tr>\n",
       "    <tr>\n",
       "      <th>NORM</th>\n",
       "      <td>normal ECG</td>\n",
       "      <td>1.0</td>\n",
       "      <td>NaN</td>\n",
       "      <td>NaN</td>\n",
       "      <td>NORM</td>\n",
       "      <td>NORM</td>\n",
       "      <td>Normal/abnormal</td>\n",
       "      <td>normal ECG</td>\n",
       "      <td>1.0</td>\n",
       "      <td>NaN</td>\n",
       "      <td>NaN</td>\n",
       "      <td>F-000B7</td>\n",
       "    </tr>\n",
       "  </tbody>\n",
       "</table>\n",
       "</div>"
      ],
      "text/plain": [
       "                          description  diagnostic  form  rhythm  \\\n",
       "NDT    non-diagnostic T abnormalities         1.0   1.0     NaN   \n",
       "NST_          non-specific ST changes         1.0   1.0     NaN   \n",
       "DIG                  digitalis-effect         1.0   1.0     NaN   \n",
       "LNGQT                long QT-interval         1.0   1.0     NaN   \n",
       "NORM                       normal ECG         1.0   NaN     NaN   \n",
       "\n",
       "      diagnostic_class diagnostic_subclass  \\\n",
       "NDT               STTC                STTC   \n",
       "NST_              STTC                NST_   \n",
       "DIG               STTC                STTC   \n",
       "LNGQT             STTC                STTC   \n",
       "NORM              NORM                NORM   \n",
       "\n",
       "                                      Statement Category  \\\n",
       "NDT                    other ST-T descriptive statements   \n",
       "NST_   Basic roots for coding ST-T changes and abnorm...   \n",
       "DIG                    other ST-T descriptive statements   \n",
       "LNGQT                  other ST-T descriptive statements   \n",
       "NORM                                     Normal/abnormal   \n",
       "\n",
       "        SCP-ECG Statement Description  AHA code            aECG REFID  \\\n",
       "NDT    non-diagnostic T abnormalities       NaN                   NaN   \n",
       "NST_          non-specific ST changes     145.0  MDC_ECG_RHY_STHILOST   \n",
       "DIG         suggests digitalis-effect     205.0                   NaN   \n",
       "LNGQT                long QT-interval     148.0                   NaN   \n",
       "NORM                       normal ECG       1.0                   NaN   \n",
       "\n",
       "      CDISC Code DICOM Code  \n",
       "NDT          NaN        NaN  \n",
       "NST_         NaN        NaN  \n",
       "DIG          NaN        NaN  \n",
       "LNGQT        NaN        NaN  \n",
       "NORM         NaN    F-000B7  "
      ]
     },
     "execution_count": 22,
     "metadata": {},
     "output_type": "execute_result"
    }
   ],
   "source": [
    "agg_df = pd.read_csv(path+'scp_statements.csv', index_col=0)\n",
    "agg_df = agg_df[agg_df.diagnostic == 1]\n",
    "print(agg_df.shape)\n",
    "agg_df.head()"
   ]
  }
 ],
 "metadata": {
  "kernelspec": {
   "display_name": ".venv",
   "language": "python",
   "name": "python3"
  },
  "language_info": {
   "codemirror_mode": {
    "name": "ipython",
    "version": 3
   },
   "file_extension": ".py",
   "mimetype": "text/x-python",
   "name": "python",
   "nbconvert_exporter": "python",
   "pygments_lexer": "ipython3",
   "version": "3.12.2"
  }
 },
 "nbformat": 4,
 "nbformat_minor": 5
}
